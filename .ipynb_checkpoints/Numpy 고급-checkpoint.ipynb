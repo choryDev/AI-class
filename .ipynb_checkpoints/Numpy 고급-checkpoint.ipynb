{
 "cells": [
  {
   "cell_type": "markdown",
   "metadata": {},
   "source": [
    "## 1. ndarray 객체 내부 알아보기\n",
    "- a means to interpret a block of homogeneou sdata as a multidimensional array object(다양한 형태의 데이터를 다차원 배열 객체로 해석하는 방법 제공)\n",
    "- 데이터 블록에 대한 부분적인 view를 제공\n",
    "- a *pointer to data* is a block of system memory(데이터에 대한 포인터)\n",
    "- the *data type* or dtype\n",
    "- a tuple indicating the array's *shape*\n",
    "- a tuple of *strides*, integers indicating the # of bytes to \"step\" in order to advance one element along a dimension\n",
    "![그림12-1](img/p354.png)"
   ]
  },
  {
   "cell_type": "code",
   "execution_count": null,
   "metadata": {},
   "outputs": [],
   "source": [
    "import numpy as np"
   ]
  },
  {
   "cell_type": "code",
   "execution_count": null,
   "metadata": {},
   "outputs": [],
   "source": [
    "np.ones((10,5)).shape"
   ]
  },
  {
   "cell_type": "markdown",
   "metadata": {},
   "source": [
    "- stride: 하나의 원소에서 다음 원소까지의 너비를 표현\n",
    "- 3x4x5 크기의 float64(8bytes) 배열의 stride (160,40,8)\n",
    "    - 4x5 x 8 = 160\n",
    "    - 5 x 8 = 40\n",
    "    - 8"
   ]
  },
  {
   "cell_type": "code",
   "execution_count": null,
   "metadata": {},
   "outputs": [],
   "source": [
    "np.ones((3,4,5),dtype=np.float64).strides"
   ]
  },
  {
   "cell_type": "markdown",
   "metadata": {},
   "source": [
    "### NumPy dtype Hierarchy\n",
    "![그림12-2](img/p355.png)"
   ]
  },
  {
   "cell_type": "code",
   "execution_count": null,
   "metadata": {},
   "outputs": [],
   "source": [
    "ints = np.ones(10,dtype=np.uint16)\n",
    "np.issubdtype(ints.dtype, np.integer)"
   ]
  },
  {
   "cell_type": "code",
   "execution_count": null,
   "metadata": {},
   "outputs": [],
   "source": [
    "floats = np.ones(10,dtype=np.float32)\n",
    "np.issubdtype(floats.dtype, np.floating)"
   ]
  },
  {
   "cell_type": "code",
   "execution_count": null,
   "metadata": {},
   "outputs": [],
   "source": [
    "np.float64.mro()  # mro: 특정 dytpe의 모든 부모 class 목록"
   ]
  },
  {
   "cell_type": "markdown",
   "metadata": {},
   "source": [
    "## 2. 고급 Array 조작"
   ]
  },
  {
   "cell_type": "markdown",
   "metadata": {},
   "source": [
    "### 2.1 Reshaping"
   ]
  },
  {
   "cell_type": "code",
   "execution_count": null,
   "metadata": {},
   "outputs": [],
   "source": [
    "arr = np.arange(8)\n",
    "arr"
   ]
  },
  {
   "cell_type": "code",
   "execution_count": null,
   "metadata": {},
   "outputs": [],
   "source": [
    "arr.reshape((4,2))"
   ]
  },
  {
   "cell_type": "code",
   "execution_count": null,
   "metadata": {},
   "outputs": [],
   "source": [
    "arr.reshape((4,2)).reshape((2,4))"
   ]
  },
  {
   "cell_type": "markdown",
   "metadata": {},
   "source": [
    "- reshape의 값이 -1이면 워논데이터를 참조해서 적절한 값을 추론"
   ]
  },
  {
   "cell_type": "code",
   "execution_count": null,
   "metadata": {},
   "outputs": [],
   "source": [
    "arr = np.arange(15)\n",
    "arr.reshape((5,-1))"
   ]
  },
  {
   "cell_type": "markdown",
   "metadata": {},
   "source": [
    "- *flattening or raveling*: the opposite operation of **reshape**\n",
    "- **ravel** : 복사본을 생성하지 않음\n",
    "- **flatten**: 복사본을 반환"
   ]
  },
  {
   "cell_type": "code",
   "execution_count": null,
   "metadata": {},
   "outputs": [],
   "source": [
    "arr.ravel()"
   ]
  },
  {
   "cell_type": "code",
   "execution_count": null,
   "metadata": {},
   "outputs": [],
   "source": [
    "arr.flatten()"
   ]
  },
  {
   "cell_type": "markdown",
   "metadata": {},
   "source": [
    "### 2.2 C vs. Fortran Order\n",
    "- C Order : row major order\n",
    "- Fortran : column major order\n",
    "![Fig12-3](img/p358.png)"
   ]
  },
  {
   "cell_type": "code",
   "execution_count": null,
   "metadata": {},
   "outputs": [],
   "source": [
    "arr = np.arange(12).reshape((3,4))\n",
    "arr"
   ]
  },
  {
   "cell_type": "code",
   "execution_count": null,
   "metadata": {},
   "outputs": [],
   "source": [
    "arr.ravel()   # Raw major 평탄화"
   ]
  },
  {
   "cell_type": "code",
   "execution_count": null,
   "metadata": {},
   "outputs": [],
   "source": [
    "arr.ravel('F')   # Fortran 순서(column major) 평탄화"
   ]
  },
  {
   "cell_type": "markdown",
   "metadata": {},
   "source": [
    "### 2.3 Concatenating and Splitting Arrays\n",
    "- **concatenate** : 입력 axis 기준에 따라 array를 join\n",
    "- **split** : 입력 axis 기준에 따라 배열을 여러 배열로 쪼깸(split)"
   ]
  },
  {
   "cell_type": "code",
   "execution_count": null,
   "metadata": {},
   "outputs": [],
   "source": [
    "arr1 = np.array([[1,2,3],[4,5,6]])\n",
    "arr2 = np.array([[7,8,9],[10,11,12]])"
   ]
  },
  {
   "cell_type": "code",
   "execution_count": null,
   "metadata": {},
   "outputs": [],
   "source": [
    "np.concatenate([arr1,arr2], axis=0)  # vstack((arr1,arr2)), row_stack"
   ]
  },
  {
   "cell_type": "code",
   "execution_count": null,
   "metadata": {},
   "outputs": [],
   "source": [
    "np.vstack((arr1,arr2))"
   ]
  },
  {
   "cell_type": "code",
   "execution_count": null,
   "metadata": {},
   "outputs": [],
   "source": [
    "np.row_stack((arr1,arr2))"
   ]
  },
  {
   "cell_type": "code",
   "execution_count": null,
   "metadata": {},
   "outputs": [],
   "source": [
    "np.concatenate([arr1,arr2], axis=1) # hstack((arr1,arr2)), column_stack"
   ]
  },
  {
   "cell_type": "code",
   "execution_count": null,
   "metadata": {},
   "outputs": [],
   "source": [
    "np.hstack((arr1,arr2))"
   ]
  },
  {
   "cell_type": "code",
   "execution_count": null,
   "metadata": {},
   "outputs": [],
   "source": [
    "np.column_stack((arr1,arr2))"
   ]
  },
  {
   "cell_type": "code",
   "execution_count": null,
   "metadata": {},
   "outputs": [],
   "source": [
    "arr = np.arange(10).reshape((5,2))\n",
    "arr"
   ]
  },
  {
   "cell_type": "code",
   "execution_count": null,
   "metadata": {},
   "outputs": [],
   "source": [
    "first, second, third = np.split(arr,[1,3])   # 1, 3 열을 기준으로 split\n",
    "print(first)\n",
    "print(second)\n",
    "print(third)"
   ]
  },
  {
   "cell_type": "markdown",
   "metadata": {},
   "source": [
    "- hsplit, vsplit, dsplit : 각각 axis 0, 1, 2를 따라 배열을 쪼갬"
   ]
  },
  {
   "cell_type": "code",
   "execution_count": null,
   "metadata": {},
   "outputs": [],
   "source": [
    "first, second = np.hsplit(arr,[1])\n",
    "print(first)\n",
    "print(second)"
   ]
  },
  {
   "cell_type": "code",
   "execution_count": null,
   "metadata": {},
   "outputs": [],
   "source": [
    "first, second, third = np.vsplit(arr,[1,3])   # 1, 3 열을 기준으로 split\n",
    "print(first)\n",
    "print(second)\n",
    "print(third)"
   ]
  },
  {
   "cell_type": "markdown",
   "metadata": {},
   "source": [
    "#### 배열 쌓기 도우미: r_, c_"
   ]
  },
  {
   "cell_type": "code",
   "execution_count": null,
   "metadata": {},
   "outputs": [],
   "source": [
    "from numpy.random import randn\n",
    "arr = np.arange(6)\n",
    "arr1 = arr.reshape((3,2))\n",
    "arr2 = randn(3,2)"
   ]
  },
  {
   "cell_type": "code",
   "execution_count": null,
   "metadata": {},
   "outputs": [],
   "source": [
    "np.r_[arr1,arr2]"
   ]
  },
  {
   "cell_type": "code",
   "execution_count": null,
   "metadata": {},
   "outputs": [],
   "source": [
    "np.c_[np.r_[arr1,arr2],arr]"
   ]
  },
  {
   "cell_type": "code",
   "execution_count": null,
   "metadata": {},
   "outputs": [],
   "source": [
    "np.c_[1:6, -10:-5]"
   ]
  },
  {
   "cell_type": "markdown",
   "metadata": {},
   "source": [
    "### 2.4 원소반복시키기: repeat, tile\n",
    "- repeat: 한 배열의 각 원소를 원하는 만큼 복제"
   ]
  },
  {
   "cell_type": "code",
   "execution_count": null,
   "metadata": {},
   "outputs": [],
   "source": [
    "arr = np.arange(3)\n",
    "print(arr)\n",
    "arr.repeat(3)"
   ]
  },
  {
   "cell_type": "code",
   "execution_count": null,
   "metadata": {},
   "outputs": [],
   "source": [
    "# 배열을 넘기면 각 원소를 배얄의 정수만큼 반복\n",
    "arr.repeat([2,3,4])"
   ]
  },
  {
   "cell_type": "code",
   "execution_count": null,
   "metadata": {},
   "outputs": [],
   "source": [
    "arr1 = randn(2,2)\n",
    "arr1"
   ]
  },
  {
   "cell_type": "code",
   "execution_count": null,
   "metadata": {},
   "outputs": [],
   "source": [
    "arr1.repeat(2)   # axis가 없으면 단순 평탄화"
   ]
  },
  {
   "cell_type": "code",
   "execution_count": null,
   "metadata": {},
   "outputs": [],
   "source": [
    "arr1.repeat(2, axis=0)"
   ]
  },
  {
   "cell_type": "code",
   "execution_count": null,
   "metadata": {},
   "outputs": [],
   "source": [
    "arr1.repeat([2,3], axis=0)"
   ]
  },
  {
   "cell_type": "code",
   "execution_count": null,
   "metadata": {},
   "outputs": [],
   "source": [
    "arr1.repeat(2,axis=1)"
   ]
  },
  {
   "cell_type": "markdown",
   "metadata": {},
   "source": [
    "- tile: 축을 따라 배열을 복사해서 쌓음. 같은 내용의 배열을 이어붙임"
   ]
  },
  {
   "cell_type": "code",
   "execution_count": null,
   "metadata": {},
   "outputs": [],
   "source": [
    "np.tile(arr1, 2)"
   ]
  },
  {
   "cell_type": "code",
   "execution_count": null,
   "metadata": {},
   "outputs": [],
   "source": [
    "np.tile(arr1, (2,1))"
   ]
  },
  {
   "cell_type": "code",
   "execution_count": null,
   "metadata": {},
   "outputs": [],
   "source": [
    "np.tile(arr1, (3,2))"
   ]
  },
  {
   "cell_type": "markdown",
   "metadata": {
    "collapsed": true
   },
   "source": [
    "## 3. Broadcasting\n",
    "- Broadcating: 다른 모양의 배열간 산술연산을 설명.\n",
    "- http://scipy.github.io/old-wiki/pages/EricsBroadcastingDoc"
   ]
  },
  {
   "cell_type": "code",
   "execution_count": null,
   "metadata": {},
   "outputs": [],
   "source": [
    "# 배열과 scalar 값의 결합\n",
    "arr = np.arange(5)\n",
    "print(arr)\n",
    "arr*4"
   ]
  },
  {
   "cell_type": "markdown",
   "metadata": {},
   "source": [
    "- broadcasting over axis 0 with a 1D array\n",
    "![그림12-4](img/p363.png)"
   ]
  },
  {
   "cell_type": "code",
   "execution_count": null,
   "metadata": {},
   "outputs": [],
   "source": [
    "arr = randn(4,3)\n",
    "arr"
   ]
  },
  {
   "cell_type": "code",
   "execution_count": null,
   "metadata": {},
   "outputs": [],
   "source": [
    "arr.mean(0)"
   ]
  },
  {
   "cell_type": "code",
   "execution_count": null,
   "metadata": {},
   "outputs": [],
   "source": [
    "demeaned = arr - arr.mean(0)\n",
    "demeaned"
   ]
  },
  {
   "cell_type": "code",
   "execution_count": null,
   "metadata": {},
   "outputs": [],
   "source": [
    "demeaned.mean(0)"
   ]
  },
  {
   "cell_type": "markdown",
   "metadata": {},
   "source": [
    "- broadcasting over axis 1 with a 2D array\n",
    "![title](img/p364.png)"
   ]
  },
  {
   "cell_type": "code",
   "execution_count": null,
   "metadata": {},
   "outputs": [],
   "source": [
    "arr"
   ]
  },
  {
   "cell_type": "code",
   "execution_count": null,
   "metadata": {},
   "outputs": [],
   "source": [
    "row_means = arr.mean(1)\n",
    "print(row_means)\n",
    "row_means.reshape((4,1))"
   ]
  },
  {
   "cell_type": "code",
   "execution_count": null,
   "metadata": {},
   "outputs": [],
   "source": [
    "demeaned = arr - row_means.reshape((4,1))\n",
    "demeaned"
   ]
  },
  {
   "cell_type": "code",
   "execution_count": null,
   "metadata": {},
   "outputs": [],
   "source": [
    "demeaned.mean(1)"
   ]
  },
  {
   "cell_type": "markdown",
   "metadata": {},
   "source": [
    "- broadcasting over axis 0 with a 3D array\n",
    "![title](img/p365.png)"
   ]
  },
  {
   "cell_type": "markdown",
   "metadata": {},
   "source": [
    "### 3.1 다른 축에 대해 broadcasting\n",
    "- np.newaxis: broadcasting을 위해 길이가 1인 새로운 축을 추가"
   ]
  },
  {
   "cell_type": "code",
   "execution_count": null,
   "metadata": {},
   "outputs": [],
   "source": [
    "arr = np.zeros((4,4))\n",
    "arr_3d = arr[:, np.newaxis, :]\n",
    "arr_3d.shape"
   ]
  },
  {
   "cell_type": "code",
   "execution_count": null,
   "metadata": {},
   "outputs": [],
   "source": [
    "arr_1d = np.random.normal(size=3)\n",
    "arr_1d[:,np.newaxis]"
   ]
  },
  {
   "cell_type": "code",
   "execution_count": null,
   "metadata": {},
   "outputs": [],
   "source": [
    "arr_1d[np.newaxis, :]"
   ]
  },
  {
   "cell_type": "markdown",
   "metadata": {},
   "source": [
    "- Compatible 2D array shapes for broadcasting over a 3D array\n",
    "![title](img/p366.png)"
   ]
  },
  {
   "cell_type": "code",
   "execution_count": null,
   "metadata": {},
   "outputs": [],
   "source": [
    "# 3 차원 배열에서 2번 축에 대해 평균 값 빼기\n",
    "arr = randn(3,4,5)\n",
    "arr"
   ]
  },
  {
   "cell_type": "code",
   "execution_count": null,
   "metadata": {},
   "outputs": [],
   "source": [
    "depth_mean = arr.mean(2)\n",
    "depth_mean"
   ]
  },
  {
   "cell_type": "code",
   "execution_count": null,
   "metadata": {},
   "outputs": [],
   "source": [
    "demeaned = arr - depth_mean[:,:,np.newaxis]\n",
    "demeaned"
   ]
  },
  {
   "cell_type": "markdown",
   "metadata": {},
   "source": [
    "### 3.2 Broadcasting을 이용해 배열에 값 대입하기\n",
    "- 배열의 색인을 이용한 값 대입 시 브로드캐스틴 규칙이 적용\n",
    "- 배열의 모양이 호환되는 한 1차원 배열을 그 배열의 column의 값으로 대입할 수 있음"
   ]
  },
  {
   "cell_type": "code",
   "execution_count": null,
   "metadata": {},
   "outputs": [],
   "source": [
    "arr = np.zeros((4,3))\n",
    "arr[:]= 5\n",
    "arr"
   ]
  },
  {
   "cell_type": "code",
   "execution_count": null,
   "metadata": {},
   "outputs": [],
   "source": [
    "col = np.array([1.28, -0.42, 0.44, 1.6])\n",
    "arr[:] = col[:, np.newaxis]\n",
    "arr"
   ]
  },
  {
   "cell_type": "code",
   "execution_count": null,
   "metadata": {},
   "outputs": [],
   "source": [
    "arr[:2] = [[-1.37],[0.509]]\n",
    "arr"
   ]
  },
  {
   "cell_type": "markdown",
   "metadata": {},
   "source": [
    "## 4. 고급 ufunc 사용법\n",
    "method | 설명\n",
    "-----|-----\n",
    "reduce(x)| 연산의 연속된 적용으로 값을 집계한다.\n",
    "accumulate(x)| 모든 부분적 집계 값을 유지한 채 값을 집계한다.\n",
    "reduceat(x, bins)| 로컬 reduce 또는 groupby. \n",
    "|연속된 데이터 슬라이스를 집계된 배열로 축소\n",
    "outer(x, y)| x와 y의 모든 원소 조합에 대해 연산을 적용. \n",
    "|결과 배열은 x.shape+y.shape의 형태를 가짐\n"
   ]
  },
  {
   "cell_type": "code",
   "execution_count": null,
   "metadata": {},
   "outputs": [],
   "source": [
    "arr = np.arange(10)\n",
    "np.add.reduce(arr)"
   ]
  },
  {
   "cell_type": "code",
   "execution_count": null,
   "metadata": {},
   "outputs": [],
   "source": [
    "arr = np.arange(15).reshape((3,5))\n",
    "arr"
   ]
  },
  {
   "cell_type": "code",
   "execution_count": null,
   "metadata": {},
   "outputs": [],
   "source": [
    "np.add.accumulate(arr, axis=1)"
   ]
  },
  {
   "cell_type": "code",
   "execution_count": null,
   "metadata": {},
   "outputs": [],
   "source": [
    "np.add.accumulate(arr, axis=0)"
   ]
  },
  {
   "cell_type": "markdown",
   "metadata": {},
   "source": [
    "## 5. Learning SciPy\n",
    "- SciPy offers a magnitude of algorithms working on Numpy arrays\n",
    "- the complete namespace of NumPy is also accessible via SciPy.\n",
    "- https://docs.scipy.org/doc/scipy/reference/"
   ]
  },
  {
   "cell_type": "code",
   "execution_count": null,
   "metadata": {},
   "outputs": [],
   "source": [
    "import scipy, numpy\n",
    "scipy.version.full_version"
   ]
  },
  {
   "cell_type": "code",
   "execution_count": null,
   "metadata": {},
   "outputs": [],
   "source": [
    "scipy.dot is numpy.dot"
   ]
  },
  {
   "cell_type": "markdown",
   "metadata": {},
   "source": [
    "package | Functionalities\n",
    "-----|------ \n",
    "cluster | - Hierachical clustering(cluster.hierarchy)\n",
    "|- Vector quantization/K-means(cluster.vq)\n",
    "constants | - Physical and mathmatical constants\n",
    "| - Conversion methods\n",
    "fftpack | Discrete Fourier transform algorithm\n",
    "integrate | Intergration routines\n",
    "interpolate | Interpolation(linear, cubic, and so on)\n",
    "io | Data input and output\n",
    "linalg | Linear algebra routines using the optimize BLAS and LAPACK libraries\n",
    "ndimage | n-dimensional image package\n",
    "odr | Orthogonal distance regression\n",
    "optimize | Optimization (finding minima and roots)\n",
    "signal | Signal processing\n",
    "sparse | Sparse matrices\n",
    "spatial | Spatial data structures and algorithms\n",
    "special | Special mathmatical functions a.a Bessel or Jacobian\n",
    "stats | Statistics toolkit"
   ]
  },
  {
   "cell_type": "markdown",
   "metadata": {},
   "source": [
    "## 6. Learning Scikit-learn\n",
    "\n",
    "http://scikit-learn.org/stable/index.html"
   ]
  }
 ],
 "metadata": {
  "anaconda-cloud": {},
  "kernelspec": {
   "display_name": "Python 3",
   "language": "python",
   "name": "python3"
  },
  "language_info": {
   "codemirror_mode": {
    "name": "ipython",
    "version": 3
   },
   "file_extension": ".py",
   "mimetype": "text/x-python",
   "name": "python",
   "nbconvert_exporter": "python",
   "pygments_lexer": "ipython3",
   "version": "3.8.3"
  }
 },
 "nbformat": 4,
 "nbformat_minor": 1
}
